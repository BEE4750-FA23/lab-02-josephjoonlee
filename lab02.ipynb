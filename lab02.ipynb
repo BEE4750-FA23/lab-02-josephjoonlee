{
  "cells": [
    {
      "cell_type": "markdown",
      "metadata": {},
      "source": [
        "# BEE 4750 Lab 2: Uncertainty and Monte Carlo"
      ],
      "id": "9af83faa-65d9-46bb-9103-81a724e41a2f"
    },
    {
      "cell_type": "markdown",
      "metadata": {},
      "source": [
        "**Name**:\n",
        "\n",
        "**ID**:"
      ],
      "id": "bb05f010-9f06-439f-b014-595718708afe"
    },
    {
      "cell_type": "markdown",
      "metadata": {},
      "source": [
        "> **Due Date**\n",
        ">\n",
        "> Friday, 9/22/23, 9:00pm\n",
        "\n",
        "## Setup\n",
        "\n",
        "The following code should go at the top of most Julia scripts; it will\n",
        "load the local package environment and install any needed packages. You\n",
        "will see this often and shouldn’t need to touch it."
      ],
      "id": "0e41babf-e1d7-46a5-97a8-6574903e6628"
    },
    {
      "cell_type": "code",
      "execution_count": 1,
      "metadata": {},
      "outputs": [],
      "source": [
        "import Pkg\n",
        "Pkg.activate(\".\")\n",
        "Pkg.instantiate()"
      ],
      "id": "df593cd5"
    },
    {
      "cell_type": "code",
      "execution_count": 2,
      "metadata": {},
      "outputs": [],
      "source": [
        "using Random # random number generation\n",
        "using Distributions # probability distributions and interface\n",
        "using Statistics # basic statistical functions, including mean\n",
        "using Plots # plotting"
      ],
      "id": "a6e48d45"
    },
    {
      "cell_type": "markdown",
      "metadata": {},
      "source": [
        "## Introduction\n",
        "\n",
        "In this lab, you will use Monte Carlo analysis to estimate the expected\n",
        "winnings for a couple of different games of chance.\n",
        "\n",
        "Monte Carlo methods involve the simulation of random numbers from\n",
        "probability distributions. In an environmental context, we often\n",
        "propagate these random numbers through some more complicated model and\n",
        "then compute a resulting statistic which is relevant for assessing\n",
        "performance or risk, such as an average outcome or a particular\n",
        "quantile.\n",
        "\n",
        "Julia provides a common interface for probability distributions with the\n",
        "[`Distributions.jl`\n",
        "package](https://juliastats.org/Distributions.jl/stable/). The basic\n",
        "workflow for sampling from a distribution is:\n",
        "\n",
        "1.  Set up the distribution. The specific syntax depends on the\n",
        "    distribution and what parameters are required, but the general call\n",
        "    is the similar. For a normal distribution or a uniform distribution,\n",
        "    the syntax is\n",
        "\n",
        "    ``` julia\n",
        "    # you don't have to name this \"normal_distribution\"\n",
        "    # μ is the mean and σ is the standard deviation\n",
        "    normal_distribution = Normal(μ, σ)\n",
        "    # a is the upper bound and b is the lower bound; these can be set to +Inf or -Inf for an unbounded distribution in one or both directions.\n",
        "    uniform_distribution = Uniform(a, b)\n",
        "    ```\n",
        "\n",
        "    There are lots of both\n",
        "    [univariate](https://juliastats.org/Distributions.jl/stable/univariate/#Index)\n",
        "    and\n",
        "    [multivariate](https://juliastats.org/Distributions.jl/stable/multivariate/)\n",
        "    distributions, as well as the ability to create your own, but we\n",
        "    won’t do anything too exotic here.\n",
        "\n",
        "2.  Draw samples. This uses the `rand()` command (which, when used\n",
        "    without a distribution, just samples uniformly from the interval\n",
        "    $[0, 1]$.) For example, to sample from our normal distribution\n",
        "    above:\n",
        "\n",
        "    ``` julia\n",
        "    # draw n samples\n",
        "    rand(normal_distribution, n)\n",
        "    ```\n",
        "\n",
        "Putting this together, let’s say that we wanted to simulate 100\n",
        "six-sided dice rolls. We could use a [Discrete Uniform\n",
        "distribution](https://juliastats.org/Distributions.jl/stable/univariate/#Distributions.DiscreteUniform)."
      ],
      "id": "9cbff43d-e10d-404c-adc2-17515d46838c"
    },
    {
      "cell_type": "code",
      "execution_count": 3,
      "metadata": {},
      "outputs": [
        {
          "output_type": "display_data",
          "metadata": {},
          "data": {
            "text/plain": [
              "100-element Vector{Int64}:\n",
              " 6\n",
              " 2\n",
              " 6\n",
              " 1\n",
              " 2\n",
              " 1\n",
              " 4\n",
              " 4\n",
              " 4\n",
              " 3\n",
              " 5\n",
              " 2\n",
              " 2\n",
              " ⋮\n",
              " 2\n",
              " 1\n",
              " 1\n",
              " 4\n",
              " 2\n",
              " 5\n",
              " 5\n",
              " 5\n",
              " 1\n",
              " 3\n",
              " 2\n",
              " 5"
            ]
          }
        }
      ],
      "source": [
        "dice_dist = DiscreteUniform(1, 6) # can generate any integer between 1 and 6\n",
        "dice_rolls = rand(dice_dist, 100) # simulate rolls"
      ],
      "id": "68324409"
    },
    {
      "cell_type": "markdown",
      "metadata": {},
      "source": [
        "And then we can plot a histogram of these rolls:"
      ],
      "id": "0207a9c4-1278-4541-b09e-95b5b87f0a6a"
    },
    {
      "cell_type": "code",
      "execution_count": 4,
      "metadata": {},
      "outputs": [
        {
          "output_type": "display_data",
          "metadata": {},
          "data": {
            "text/html": [
              "<img src=\"data:image/png;base64,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\" />"
            ]
          }
        }
      ],
      "source": [
        "histogram(dice_rolls, legend=:false, bins=6)\n",
        "ylabel!(\"Count\")\n",
        "xlabel!(\"Dice Value\")"
      ],
      "id": "16596898"
    },
    {
      "cell_type": "markdown",
      "metadata": {},
      "source": [
        "**Remember to**:\n",
        "\n",
        "-   Evaluate all of your code cells, in order (using a `Run All`\n",
        "    command). This will make sure all output is visible and that the\n",
        "    code cells were evaluated in the correct order.\n",
        "-   Tag each of the problems when you submit to Gradescope; a 10%\n",
        "    penalty will be deducted if this is not done."
      ],
      "id": "97e18869-a20c-4a95-a0c4-1371b4b04c3c"
    },
    {
      "cell_type": "markdown",
      "metadata": {},
      "source": [
        "## Exercises (10 points)\n",
        "\n",
        "In Problem 1, you will compute the probability of getting a specific\n",
        "combination of multiple dice rolls. The focus will be on understanding\n",
        "how the Monte Carlo estimate changes based on the number of simulations.\n",
        "\n",
        "In Problem 2, we will implement the culmination of every episode of the\n",
        "long-running game show [The Price Is\n",
        "Right](https://en.wikipedia.org/wiki/The_Price_Is_Right): the\n",
        "[Showcase](https://en.wikipedia.org/wiki/The_Price_Is_Right#Showcase).\n",
        "You will be asked to make a plot of expected winnings by bid for a\n",
        "particular distribution of prize values.\n",
        "\n",
        "You should always start any computing with random numbers by setting a\n",
        "“seed,” which controls the sequence of numbers which are generated\n",
        "(since these are not *really* random, just “pseudorandom”). In Julia, we\n",
        "do this with the `Random.seed!()` function.\n",
        "\n",
        "``` julia\n",
        "Random.seed!(1)\n",
        "```\n",
        "\n",
        "    TaskLocalRNG()\n",
        "\n",
        "It doesn’t matter what seed you set, though different seeds might result\n",
        "in slightly different values. But setting a seed means every time your\n",
        "notebook is run, the answer will be the same.\n",
        "\n",
        "> **Seeds and Reproducing Solutions**\n",
        ">\n",
        "> If you don’t re-run your code in the same order or if you re-run the\n",
        "> same cell repeatedly, you will not get the same solution. If you’re\n",
        "> working on a specific problem, you might want to re-use\n",
        "> `Random.seed()` near any block of code you want to re-evaluate\n",
        "> repeatedly."
      ],
      "id": "0a6a1d5e-e498-4712-9e6d-514eb9597124"
    },
    {
      "cell_type": "markdown",
      "metadata": {},
      "source": [
        "### Problem 1 (5 points)\n",
        "\n",
        "We want to know the probability of getting at least an 11 from rolling\n",
        "three fair, six-sided dice (this is actually an old Italian game called\n",
        "*passadieci*, which was analyzed by Galileo as one of the first examples\n",
        "of a rigorous study of probability)."
      ],
      "id": "3dbea744-424c-4c78-b7bd-c73ce4980258"
    },
    {
      "cell_type": "markdown",
      "metadata": {},
      "source": [
        "#### Problem 1.1 (1 point)\n",
        "\n",
        "Write a function called `passadieci()` to simulate this game, which will\n",
        "take as an input the number of realizations and output a vector of the\n",
        "sum of the three dice rolls for each realization."
      ],
      "id": "d2c85b91-788d-4310-ac30-b4f2c907c2ae"
    },
    {
      "cell_type": "markdown",
      "metadata": {},
      "source": [
        "### Problem 1.2 (2 points)\n",
        "\n",
        "Generate 5,000 simulations of the game using your `passadieci()`\n",
        "function. Plot how the computed probability of winning the game changes\n",
        "as the number of simulations increases (you can do this by computing the\n",
        "frequency of wins for each additional simulation)."
      ],
      "id": "59ce19e7-77b1-4331-9cc5-47c41b66e7ee"
    },
    {
      "cell_type": "markdown",
      "metadata": {},
      "source": [
        "### Problem 1.3 (2 point)\n",
        "\n",
        "Based on your plot from Problem 1.2, how many simulations were needed\n",
        "for the win probability estimate to converge? What did you notice from\n",
        "your plot about the estimates prior to convergence?"
      ],
      "id": "89f626b8-26aa-45b2-8650-9fc44385c448"
    },
    {
      "cell_type": "markdown",
      "metadata": {},
      "source": [
        "## Problem 2 (5 points)\n",
        "\n",
        "The Showcase is the final round of every episode of The Price is Right,\n",
        "matching the two big winners from the episode. Each contestant is shown\n",
        "a “showcase” of prizes, which are usually some combination of a trip, a\n",
        "motor vehicle, some furniture, and maybe some other stuff. They then\n",
        "each have to make a bid on the retail price of the showcase. The rules\n",
        "are:\n",
        "\n",
        "-   an overbid is an automatic loss;\n",
        "-   the contest who gets closest to the retail price wins their\n",
        "    showcase;\n",
        "-   if a contestant gets within \\$250 of the retail price and is closer\n",
        "    than their opponent, they win both showcases.\n",
        "\n",
        "Your goal is to find a wager which maximizes your expected winnings,\n",
        "which we may as well call utility, based on your assessment of the\n",
        "probability of your showcase retail price. We’ll assume that the\n",
        "distribution of all showcases offered by the show is given as truncated\n",
        "normal distribution, which means a normal distribution which has an\n",
        "upper and/or lower bound. `Distributions.jl` makes it easy to specify\n",
        "truncations on any distribution, not just normal distributions. For\n",
        "example, we’ll use this distribution for the showcase values:\n",
        "\n",
        "``` julia\n",
        "showcase_dist = truncated(Normal(31000, 4500), lower=5000, upper=42000)\n",
        "```\n",
        "\n",
        "    Truncated(Normal{Float64}(μ=31000.0, σ=4500.0); lower=5000.0, upper=42000.0)"
      ],
      "id": "69bd2277-c215-47ff-83f3-92cedc2ce070"
    },
    {
      "cell_type": "markdown",
      "metadata": {},
      "source": [
        "#### Problem 2.1 (3 points)\n",
        "\n",
        "Write a function `showcase()` which takes in a bid value and uses Monte\n",
        "Carlo simulation to compute the expected value of the winnings. Make the\n",
        "following assumptions about your expected winnings if you don’t overbid:\n",
        "\n",
        "-   If you win both showcases, the value is the double of the single\n",
        "    showcase value.\n",
        "-   If you did not win both showcases but bid under the showcase value,\n",
        "    the probability of being outbid increases linearly as the distance\n",
        "    between your bid and the value increases (in other words, if you bid\n",
        "    the exact value, you win with probability 1, and if you bid \\$0, you\n",
        "    win with probability 0).\n",
        "\n",
        "How did you decide how many samples to use within the function?"
      ],
      "id": "b42baa4e-b17c-47e3-b27e-4ede09a1cf3d"
    },
    {
      "cell_type": "markdown",
      "metadata": {},
      "source": [
        "#### Problem 2.2 (2 points)\n",
        "\n",
        "Plot the expected winnings for bids ranging from \\$0 to \\$42,000. What\n",
        "do you notice?"
      ],
      "id": "d7dbcec1-487f-4ae2-980e-296601580d02"
    },
    {
      "cell_type": "markdown",
      "metadata": {},
      "source": [
        "## References\n",
        "\n",
        "Put any consulted sources here, including classmates you worked with/who\n",
        "helped you."
      ],
      "id": "cf7ea998-8a4d-4983-af18-f5586a228c02"
    }
  ],
  "nbformat": 4,
  "nbformat_minor": 5,
  "metadata": {
    "kernelspec": {
      "name": "julia-1.9",
      "display_name": "Julia 1.9.3",
      "language": "julia"
    },
    "language_info": {
      "name": "julia",
      "file_extension": ".jl",
      "mimetype": "application/julia",
      "version": "1.9.3"
    }
  }
}